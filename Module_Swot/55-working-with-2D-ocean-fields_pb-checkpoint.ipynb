{
 "cells": [
  {
   "cell_type": "markdown",
   "metadata": {},
   "source": [
    "# Working with SWOT and NOAA data\n",
    "\n",
    "### Introduction\n",
    "The purpose of this notebook is to plot the SWOT data and then overlay the drifter on top of it.\n",
    "\n",
    "### Data Sources\n",
    "- Drifter Data:\n",
    "  - Source: NOAA\n",
    "  - Collection Frequency: Every 6 hours\n",
    "  - Total Number of Drifters: 136\n",
    "  - https://erddap.aoml.noaa.gov/gdp/erddap/tabledap/drifter_6hour_qc.html\n",
    "  - period :  2023-03-30 to 2023-07-09\n",
    "\n",
    "- SWOT Data:\n",
    "  - Source: Altimetry measurements,  L3 SWOT (NASA/CNES), Temporal resolution: Every Time.\n",
    "  - Data Product: NRT SWOT KaRIn & nadir Global Ocean swath SSALTO/DUACS Sea Surface Height L3 product\n",
    "  - link :  DOI associated : https://doi.org/10.24400/527896/a01-2023.017\n",
    "  - download data : https://filesender.renater.fr/?s=download&token=02607a61-c1aa-4f00-8b4e-9c26454c9260\n",
    "  - Periode : period :  2023-03-30 to 2023-07-09\n",
    "  - DUACS is the operationnal multimission production system of altimeter data developed by CNES/CLS. It features multimission products based on all altimetry satellites from GEOSAT to Jason-3 for a total of 100 years of cumulated data.\n",
    " \n",
    "### Tasks\n",
    "\n",
    "#### 1. Visualization of the SWOT parameter and dridter trajectory.\n",
    "- Plotting the $ugeos$, $vgeos$ and $SSH$.\n",
    "- Plotting the drifter's trajectory over a trace of SSH.\n"
   ]
  },
  {
   "cell_type": "markdown",
   "metadata": {},
   "source": [
    "## Import packages\n",
    "\n",
    "The package called ```utils``` is a local. It contains useful functions, and functions to be completed when requested."
   ]
  },
  {
   "cell_type": "code",
   "execution_count": null,
   "metadata": {},
   "outputs": [],
   "source": []
  },
  {
   "cell_type": "code",
   "execution_count": 203,
   "metadata": {},
   "outputs": [],
   "source": [
    "import xarray as xr\n",
    "import matplotlib.pylab as plt\n",
    "import cartopy.crs as ccrs\n",
    "import numpy as np\n",
    "import utils as ut"
   ]
  },
  {
   "cell_type": "markdown",
   "metadata": {},
   "source": [
    "###  A function for plots\n",
    "This function plots a SSH field as read in a SWOT file.\n",
    "The function calls the fill_nadir_gap function of the SWOTdenoise module, to clearly show the gap. Otherwise, pyplot fills the gap by crudely interpolating the data between the two swaths."
   ]
  },
  {
   "cell_type": "code",
   "execution_count": 204,
   "metadata": {},
   "outputs": [],
   "source": [
    "vmin = -0.15\n",
    "vmax = 0.4\n",
    "\n",
    "def splot(sshin):\n",
    "    _, lon, lat, x_ac, time = swotd.read_data(filename, 'mdt', 'longitude', 'latitude', 'cross_track_distance', 'time')\n",
    "    \n",
    "    ssh_f, lon_f, lat_f, x_ac_f = swotd.fill_nadir_gap(sshin, longitude, latitude, cross_track_distance, time)\n",
    "    \n",
    "    cs = plt.pcolormesh(lon_f, lat_f, ssh_f, vmin=vmin, vmax=vmax, cmap = 'jet')\n",
    "    \n",
    "    plt.colorbar(cs)"
   ]
  },
  {
   "cell_type": "markdown",
   "metadata": {},
   "source": [
    "### Inputs"
   ]
  },
  {
   "cell_type": "code",
   "execution_count": 205,
   "metadata": {},
   "outputs": [],
   "source": [
    "filedir  = 'C:/Users/PC-M2OA/Desktop/stage_master/memoire_de_julio/Module_Swot/Swot_moduel/'\n",
    "filename = filedir + 'SWOT_L3_LR_SSH_Expert_560_005_20230622T120043_20230622T125148_v0.3.nc'"
   ]
  },
  {
   "cell_type": "markdown",
   "metadata": {},
   "source": [
    "The function can also be called by providing the appropriate arrays as keywords arguments: ```ssh, lon, lat, x_ac, time```. In the example below, these arrays are first read in the SWOT file using the ```read_data``` function of the module:"
   ]
  },
  {
   "cell_type": "code",
   "execution_count": 206,
   "metadata": {},
   "outputs": [],
   "source": [
    "mdt, longitude, latitude, cross_track_distance, time = swotd.read_data(filename, 'mdt', 'longitude', 'latitude', 'cross_track_distance', 'time')"
   ]
  },
  {
   "cell_type": "code",
   "execution_count": 207,
   "metadata": {},
   "outputs": [
    {
     "name": "stderr",
     "output_type": "stream",
     "text": [
      "C:\\Users\\PC-M2OA\\AppData\\Local\\Temp\\ipykernel_33832\\320922029.py:9: UserWarning: The input coordinates to pcolormesh are interpreted as cell centers, but are not monotonically increasing or decreasing. This may lead to incorrectly calculated cell edges, in which case, please supply explicit cell edges to pcolormesh.\n",
      "  cs = plt.pcolormesh(lon_f, lat_f, ssh_f, vmin=vmin, vmax=vmax, cmap = 'jet')\n"
     ]
    },
    {
     "data": {
      "image/png": "[encoded data removed]",
      "text/plain": [
       "<Figure size 1200x500 with 2 Axes>"
      ]
     },
     "metadata": {},
     "output_type": "display_data"
    }
   ],
   "source": [
    "plt.figure(figsize=(12,5))\n",
    "plt.subplot(1,2,1)\n",
    "splot(ssh)\n",
    "\n",
    "# Read Drifter data\n",
    "fn='./drifter_6hour_qc_c452_ec74_11dc_U1720711192841.nc';\n",
    "ds=xr.open_dataset(fn);\n",
    "\n",
    "# Extract drifter coordinates \n",
    "drifter_lon = ds.longitude.values\n",
    "drifter_lat = ds.latitude.values\n",
    "\n",
    "# Plot drifter trajectory with scatter\n",
    "# plt.scatter(drifter_lon[19674:19931], drifter_lat[19674:19931], color='white', s=5, transform=ccrs.PlateCarree())\n",
    "plt.plot(drifter_lon[22657:23061], drifter_lat[22657:23061], color='black',marker='o',linestyle='-')\n",
    "\n",
    "plt.xlabel('Longitude [°]')\n",
    "plt.ylabel('Latitude [°]')\n",
    "plt.grid(True)\n",
    "\n",
    "plt.savefig(\"fig mode.png\")\n",
    "\n",
    "# Show the plot\n",
    "plt.show()"
   ]
  },
  {
   "cell_type": "code",
   "execution_count": null,
   "metadata": {},
   "outputs": [],
   "source": []
  },
  {
   "cell_type": "code",
   "execution_count": null,
   "metadata": {},
   "outputs": [],
   "source": []
  }
 ],
 "metadata": {
  "kernelspec": {
   "display_name": "Python 3 (ipykernel)",
   "language": "python",
   "name": "python3"
  },
  "language_info": {
   "codemirror_mode": {
    "name": "ipython",
    "version": 3
   },
   "file_extension": ".py",
   "mimetype": "text/x-python",
   "name": "python",
   "nbconvert_exporter": "python",
   "pygments_lexer": "ipython3",
   "version": "3.11.7"
  }
 },
 "nbformat": 4,
 "nbformat_minor": 4
}
