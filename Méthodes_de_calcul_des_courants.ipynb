{
 "cells": [
  {
   "cell_type": "markdown",
   "id": "3390f527-a2b2-479d-b128-c58a4ddc383c",
   "metadata": {},
   "source": [
    "### Ce notebook vise à détailler les méthodes de calcul des courants marins telles qu'elles sont présentées dans les articles de Lagerloef (1999) et Picaut (1990)."
   ]
  },
  {
   "cell_type": "markdown",
   "id": "de964059-275f-4c0d-9a3e-2a185a602124",
   "metadata": {},
   "source": [
    "## Article 1\n",
    "\n",
    "# Titre : Validation de la méthode géostrophique pour estimer les courants zonaux à l'Équateur à partir des données altimétriques de Geosat.\n",
    "\n",
    "### Auteurs : JOEL PICAUT, ANTONIO J. BUSALACCHI, MICHAEL J. McPHADEN, AND BRUNO CAMUSAT\n",
    "\n",
    "### Année de publication : 15 Mars 1990\n",
    "\n",
    "#### Nombre de page : 10\n",
    "\n",
    "**Objectif** : Estimations géostrophiques des courants zonaux à partir des données satellitaires.\n",
    "\n",
    "**Modèle utilisé** : Le modèle développé dans l'étude est basé sur un modèle statistique physiquement basé. \n",
    "- Le développement du modèle a impliqué la prise en compte de la dynamique de la couche de surface, y compris les processus géostrophiques.\n",
    "$ fu = -\\frac{1}{\\rho}\\frac{\\partial p}{\\partial y} $\n",
    "- La dynamique de la couche de surface est dominée par la dynamiques géostrophiques zonaux avec une géostrophie utilisant une formulation de plan β à l'équateur proposée par Jerlov [1953], Tsuchiya [1955], et Hidaka [1955] qui suggérent l'utilisation de la seconde dérivée du champ de pression méridienne sur un plan équatorial $(f=\\beta y) $. \n",
    "$ \\beta u = -\\frac{1}{\\rho}\\frac{\\partial^{2} p}{\\partial y^{2}} $\n",
    "- Cette relation géostrophique à l'équateur a été utilisée avec un certain succès par divers auteurs [par exemple, Hayes, 1982; Lukas and Firing, 1984]. Lorsqu'elle est appliquée aux écarts de hauteur de la surface de la mer $\\eta$ par rapport au géoïde, cette relation devient :\n",
    "$ \\beta u = -g\\frac{\\partial^{2} \\eta}{\\partial y^{2}} $\n",
    "\n",
    "**Validation du modèle** : Les performances/validation du modèle ont été évaluées par rapport aux données observationnelles pour garantir sa fiabilité et son exactitude dans l'estimation des courants de surface en se basant sur les données satellites et de dériveurs disponibles.\n",
    "\n",
    "**Méthode** : Application de la forme différenciée méridionalement de l'équilibre géostrophique.\n",
    "\n",
    "**Résultat** : Les chercheurs ont efficacement réduit l'intervalle d'échantillonnage temporel à certains sites de mouillage en utilisant les \n",
    "trajectoires disponibles de Geosat en incluant jusqu'à 11 trajectoires ascendantes et descendantes de Geosat dans une bande longitudinale spécifique à partir de chaque site de mouillage. Cette approche a permis un échantillonnage plus fréquent et régulier des courants géostrophiques, améliorant la résolution temporelle des estimations de courants zonales à ces sites de mouillage spécifiques. De plus, les chercheurs ont utilisé une combinaison de filtres linéaires et non linéaires pour lisser les hauteurs de la surface de la mer le long des trajectoires obtenues à partir des mesures altimétriques, améliorant ainsi la qualité des calculs de courants géostrophiques.\n",
    "\n",
    "**Conclusion** : Les chercheurs ont trouvé des résultats prometteurs, avec un bon accord entre les courants zonaux observés à partir des mouillages équatoriaux et les estimations géostrophiques calculées à partir des données satellitaires. L'étude met en évidence le potentiel de surveillance des courants géostrophiques de basse fréquence dans les tropiques et suggère que les futurs altimètres, tels que TOPEX/POSEIDON, pourraient améliorer la précision de l'estimation des courants géostrophiques absolus à l'Équateur. La recherche aborde également l'importance de réduire la contamination par le bruit dans les calculs de courants géostrophiques et explore des méthodes pour améliorer la résolution temporelle des estimations de courants zonaux à des sites de mouillage spécifiques.\n",
    "\n",
    "**Limites** : Ne prend pas en compte la dynamique d'Ekman ni des facteurs tels que l'accélération locale, l'advection de la quantité de mouvement et la viscosité latérale. limitation en terme de résolution spaciale des mesures altimétriques."
   ]
  },
  {
   "cell_type": "code",
   "execution_count": null,
   "id": "ff2eb49f-5b4b-4a11-af2c-93cfdfb37fa4",
   "metadata": {},
   "outputs": [],
   "source": []
  },
  {
   "cell_type": "code",
   "execution_count": null,
   "id": "4394f41b-00dc-4156-a86f-2eae8eae83bd",
   "metadata": {},
   "outputs": [],
   "source": []
  },
  {
   "cell_type": "markdown",
   "id": "452be383-337d-40d3-afad-9ad1dc9c5d3a",
   "metadata": {},
   "source": [
    "## Article 2\n",
    "\n",
    "# Titre : Courants de surface proches du Pacifique tropical estimés à partir de données d'altimètre, de vent et de flotteurs.\n",
    "\n",
    "**Auteurs**: Gary S. E. Lagerloef, Gary T. Mitchum, Roger B. Lukas et Pearn P. Niiler\n",
    "\n",
    "**Année de publication**: 15 OCTOBRE 1999\n",
    "\n",
    "**Nombre de pages**: 14\n",
    "\n",
    "**Objectif**: Estimation des courants de surface tropicaux dans l'océan Pacifique en utilisant la topographie de surface dérivée de satellites et des données de contrainte du vent, et d'évaluer les résultats. \n",
    "\n",
    "**Modèle utilisé**: Le modèle développé dans l'étude est basé sur un modèle statistique physiquement basé, calibré par 15 dériveurs équipés de mouillage à 15 mètres de profondeur. \n",
    "- Le développement du modèle a impliqué la prise en compte de la dynamique de la couche de surface, y compris les processus géostrophiques et d'Ekman, et la prise en compte de facteurs tels que l'accélération locale, l'advection de la quantité de mouvement et la viscosité latérale.\n",
    "- La dynamique de la couche de surface est dominée par des dynamiques géostrophiques et d'Ekman stables, avec une géostrophie qui passe d'une formulation de plan β à l'équateur à une formulation de plan f dans les moyennes latitudes. \n",
    "- Le mouvement d'Ekman des dériveurs est modélisé à l'aide d'un modèle à deux paramètres qui prend en compte une échelle de profondeur et un coefficient de traînée.\n",
    "- La vitesse de surface est dérivée comme la somme des composantes géostrophiques et d'Ekman, avec le flux d'Ekman dirigé dans le sens du vent et tournant avec la latitude.\n",
    "\n",
    "\\begin{cases}\n",
    "-fhv = -gh\\frac{\\partial \\zeta}{\\partial x}+\\frac{\\zeta^{x}}{\\rho}-ru_{e}\\hfill (1)\\\\\n",
    "fhu = -gh\\frac{\\partial \\zeta}{\\partial y}+\\frac{\\zeta^{y}}{\\rho}-rv_{e}\\hfill (2)\n",
    "\\end{cases}\n",
    "\n",
    "Là où $g$ représente la gravité, $\\tau^{x}$ et $\\tau^{y}$ sont les composantes du vent dans les directions est et nord, respectivement, et r est un coefficient de traînée linéaire qui représente les termes de viscosité verticale comme une force de corps sur la composante d'Ekman $ u_{e}$ et $ v_{e}$. En multipliant (2) par i et en ajoutant (1), on obtient :\n",
    "\n",
    "\\begin{cases}\n",
    "ifU_{g} = -gZ\\hfill (3)\\\\\n",
    "(ifh+r)U_{e} = \\tau\\hfill (4)\n",
    "\\end{cases}\n",
    "\n",
    "où $\\tau =(\\tau^{x}+i\\tau^{y})/\\rho$, $U=U_{g}+U_{e}$ et $Z = \\frac{\\partial \\zeta}{\\partial x}+i\\frac{\\partial \\zeta}{\\partial y}$\n",
    "\n",
    "**Validation du modèle**: Les performances/validation du modèle ont été évaluées par rapport aux données observationnelles pour garantir sa fiabilité et son exactitude dans l'estimation des courants de surface en se basant sur les données satellites et de dériveurs disponibles.\n",
    "\n",
    "**Méthode**: L'étude a utilisé la topographie de surface dérivée de satellites et des données de contrainte du vent pour estimer les courants de surface.\n",
    "\n",
    "**Résultat**: L'étude a appliqué le modèle pour analyser les schémas de circulation de surface dans le Pacifique occidental lors d'événements spécifiques tels que les rafales de vent d'ouest et le début d'El Niño.  \n",
    "\n",
    "**Conclusion**: Dans l'ensemble, la recherche offre des aperçus sur la résolution spatiale et la variabilité des courants de surface près de l'équateur dans le Pacifique tropical, apportant ainsi une contribution précieuse à la compréhension de la dynamique océanique dans cette région importante.\n",
    "\n",
    "**Limite**: Absence de réduction de la contamination par le bruit dans les calculs de courants géostrophiques et résolution spaciale des mesures altimétriques mois élevée.\n",
    " "
   ]
  },
  {
   "cell_type": "code",
   "execution_count": null,
   "id": "5d12cea6-cd76-4522-a940-136ad57d5ae1",
   "metadata": {},
   "outputs": [],
   "source": []
  }
 ],
 "metadata": {
  "kernelspec": {
   "display_name": "Python 3 (ipykernel)",
   "language": "python",
   "name": "python3"
  },
  "language_info": {
   "codemirror_mode": {
    "name": "ipython",
    "version": 3
   },
   "file_extension": ".py",
   "mimetype": "text/x-python",
   "name": "python",
   "nbconvert_exporter": "python",
   "pygments_lexer": "ipython3",
   "version": "3.11.7"
  }
 },
 "nbformat": 4,
 "nbformat_minor": 5
}
