{
 "cells": [
  {
   "cell_type": "markdown",
   "id": "ac37239a-aab1-4f16-be95-8ee7ad347ca3",
   "metadata": {},
   "source": [
    "## Drifters and Cmems data Notebook\n",
    "\n",
    "### Introduction\n",
    "This notebook aims to interpolate the wind field from CMEMS onto the drifter positions and calculate the surface Ekman current, and then add it to the geostrophic current.\n",
    "\n",
    "### Data Sources\n",
    "- Drifter Data:\n",
    "  - Source: NOAA\n",
    "  - Collection Frequency: Every 6 hours\n",
    "  - Total Number of Drifters: 221\n",
    "\n",
    "- CMEMS Data:\n",
    "  - Source: Copernicus Marine\n",
    "  - Collection Frequency: Every 12 hours\n",
    "  - Data Product: SEALEVEL_GLO_PHY_L4_MY_008_047\n",
    "\n",
    "### Tasks\n",
    "\n",
    "#### 1. Interpolation and Ekman current\n",
    "\n",
    "- Interpolating the wind field from CMEMS onto the drifter positions and calculating the surface Ekman current.\n",
    "\n",
    "#### 2. Adding the surface Ekman current to the geostrophic current."
   ]
  },
  {
   "cell_type": "markdown",
   "id": "e3c56def-7219-4890-b07a-1c21b9e1913a",
   "metadata": {},
   "source": [
    "#### 1. Interpolation and Ekman current"
   ]
  },
  {
   "cell_type": "markdown",
   "id": "e2d3b5be-86c3-4f0b-b90a-0deac715d2e1",
   "metadata": {},
   "source": [
    "## Import Library"
   ]
  },
  {
   "cell_type": "code",
   "execution_count": 1,
   "id": "8eb28f9b-8307-4dc5-baea-78dbc8cac7f8",
   "metadata": {},
   "outputs": [],
   "source": [
    "import pandas as pd\n",
    "import numpy as np\n",
    "import xarray as xr\n",
    "import matplotlib.pyplot as plt\n",
    "from scipy.interpolate import interp2d\n",
    "\n",
    "import cartopy.crs as ccrs\n",
    "import cartopy.mpl.ticker as cticker\n",
    "import cartopy.feature as cfeature\n",
    "from cartopy import config\n",
    "import matplotlib.animation"
   ]
  },
  {
   "cell_type": "markdown",
   "id": "e0a19723-87c5-43a4-a1f9-101d99b1d786",
   "metadata": {},
   "source": [
    "## Read Drifter Data"
   ]
  },
  {
   "cell_type": "code",
   "execution_count": 2,
   "id": "06125ffe-c214-4ad7-b09c-ee45de5a136c",
   "metadata": {},
   "outputs": [],
   "source": [
    "fn='./drifter_6hour_qc_893c_d15d_c4b7_U1711967648742.nc';\n",
    "ds=xr.open_dataset(fn);"
   ]
  },
  {
   "cell_type": "markdown",
   "id": "b5d1037f-e5b8-42c0-8a82-3bd4be4770c9",
   "metadata": {},
   "source": [
    "## Extract Coordinates and Variables"
   ]
  },
  {
   "cell_type": "code",
   "execution_count": 3,
   "id": "7a5251a3-54f0-40c2-b2fa-86637412f61d",
   "metadata": {},
   "outputs": [],
   "source": [
    "ve_curr = ds.ve.values\n",
    "vn_curr = ds.vn.values\n",
    "sst = ds.sst.values\n",
    "lon = ds.longitude.values\n",
    "lat = ds.latitude.values\n",
    "time = ds.time.values"
   ]
  },
  {
   "cell_type": "markdown",
   "id": "4e72dabc-b17c-4b31-bf21-b9c1d5dccd0a",
   "metadata": {},
   "source": [
    "## Creation of Pandas Array for Drifter Data"
   ]
  },
  {
   "cell_type": "code",
   "execution_count": 4,
   "id": "8f57ca67-a463-43aa-9b42-236bc4c1227e",
   "metadata": {},
   "outputs": [
    {
     "data": {
      "text/html": [
       "<div>\n",
       "<style scoped>\n",
       "    .dataframe tbody tr th:only-of-type {\n",
       "        vertical-align: middle;\n",
       "    }\n",
       "\n",
       "    .dataframe tbody tr th {\n",
       "        vertical-align: top;\n",
       "    }\n",
       "\n",
       "    .dataframe thead th {\n",
       "        text-align: right;\n",
       "    }\n",
       "</style>\n",
       "<table border=\"1\" class=\"dataframe\">\n",
       "  <thead>\n",
       "    <tr style=\"text-align: right;\">\n",
       "      <th></th>\n",
       "      <th>longitude</th>\n",
       "      <th>latitude</th>\n",
       "      <th>time</th>\n",
       "      <th>ve</th>\n",
       "      <th>vn</th>\n",
       "      <th>sst</th>\n",
       "    </tr>\n",
       "  </thead>\n",
       "  <tbody>\n",
       "    <tr>\n",
       "      <th>0</th>\n",
       "      <td>-14.478</td>\n",
       "      <td>-18.548</td>\n",
       "      <td>2023-01-01 00:00:00</td>\n",
       "      <td>-0.13760</td>\n",
       "      <td>-0.07635</td>\n",
       "      <td>23.612</td>\n",
       "    </tr>\n",
       "    <tr>\n",
       "      <th>1</th>\n",
       "      <td>-14.499</td>\n",
       "      <td>-18.556</td>\n",
       "      <td>2023-01-01 06:00:00</td>\n",
       "      <td>-0.09969</td>\n",
       "      <td>0.01322</td>\n",
       "      <td>23.564</td>\n",
       "    </tr>\n",
       "    <tr>\n",
       "      <th>2</th>\n",
       "      <td>-14.519</td>\n",
       "      <td>-18.543</td>\n",
       "      <td>2023-01-01 12:00:00</td>\n",
       "      <td>-0.15719</td>\n",
       "      <td>0.08193</td>\n",
       "      <td>23.699</td>\n",
       "    </tr>\n",
       "    <tr>\n",
       "      <th>3</th>\n",
       "      <td>-14.563</td>\n",
       "      <td>-18.524</td>\n",
       "      <td>2023-01-01 18:00:00</td>\n",
       "      <td>-0.26155</td>\n",
       "      <td>0.03533</td>\n",
       "      <td>23.856</td>\n",
       "    </tr>\n",
       "    <tr>\n",
       "      <th>4</th>\n",
       "      <td>-14.626</td>\n",
       "      <td>-18.529</td>\n",
       "      <td>2023-01-02 00:00:00</td>\n",
       "      <td>-0.23922</td>\n",
       "      <td>-0.07837</td>\n",
       "      <td>23.717</td>\n",
       "    </tr>\n",
       "    <tr>\n",
       "      <th>...</th>\n",
       "      <td>...</td>\n",
       "      <td>...</td>\n",
       "      <td>...</td>\n",
       "      <td>...</td>\n",
       "      <td>...</td>\n",
       "      <td>...</td>\n",
       "    </tr>\n",
       "    <tr>\n",
       "      <th>78378</th>\n",
       "      <td>-22.006</td>\n",
       "      <td>-19.946</td>\n",
       "      <td>2023-06-11 12:00:00</td>\n",
       "      <td>-0.03853</td>\n",
       "      <td>-0.05076</td>\n",
       "      <td>25.189</td>\n",
       "    </tr>\n",
       "    <tr>\n",
       "      <th>78379</th>\n",
       "      <td>-22.013</td>\n",
       "      <td>-19.961</td>\n",
       "      <td>2023-06-11 18:00:00</td>\n",
       "      <td>-0.05150</td>\n",
       "      <td>-0.06262</td>\n",
       "      <td>25.179</td>\n",
       "    </tr>\n",
       "    <tr>\n",
       "      <th>78380</th>\n",
       "      <td>-22.027</td>\n",
       "      <td>-19.971</td>\n",
       "      <td>2023-06-12 00:00:00</td>\n",
       "      <td>-0.06030</td>\n",
       "      <td>-0.04773</td>\n",
       "      <td>25.133</td>\n",
       "    </tr>\n",
       "    <tr>\n",
       "      <th>78381</th>\n",
       "      <td>-22.038</td>\n",
       "      <td>-19.980</td>\n",
       "      <td>2023-06-12 06:00:00</td>\n",
       "      <td>-0.06036</td>\n",
       "      <td>-0.05688</td>\n",
       "      <td>25.093</td>\n",
       "    </tr>\n",
       "    <tr>\n",
       "      <th>78382</th>\n",
       "      <td>-22.052</td>\n",
       "      <td>-19.993</td>\n",
       "      <td>2023-06-12 12:00:00</td>\n",
       "      <td>-0.03971</td>\n",
       "      <td>-0.06304</td>\n",
       "      <td>25.096</td>\n",
       "    </tr>\n",
       "  </tbody>\n",
       "</table>\n",
       "<p>78383 rows × 6 columns</p>\n",
       "</div>"
      ],
      "text/plain": [
       "       longitude  latitude                time       ve       vn     sst\n",
       "0        -14.478   -18.548 2023-01-01 00:00:00 -0.13760 -0.07635  23.612\n",
       "1        -14.499   -18.556 2023-01-01 06:00:00 -0.09969  0.01322  23.564\n",
       "2        -14.519   -18.543 2023-01-01 12:00:00 -0.15719  0.08193  23.699\n",
       "3        -14.563   -18.524 2023-01-01 18:00:00 -0.26155  0.03533  23.856\n",
       "4        -14.626   -18.529 2023-01-02 00:00:00 -0.23922 -0.07837  23.717\n",
       "...          ...       ...                 ...      ...      ...     ...\n",
       "78378    -22.006   -19.946 2023-06-11 12:00:00 -0.03853 -0.05076  25.189\n",
       "78379    -22.013   -19.961 2023-06-11 18:00:00 -0.05150 -0.06262  25.179\n",
       "78380    -22.027   -19.971 2023-06-12 00:00:00 -0.06030 -0.04773  25.133\n",
       "78381    -22.038   -19.980 2023-06-12 06:00:00 -0.06036 -0.05688  25.093\n",
       "78382    -22.052   -19.993 2023-06-12 12:00:00 -0.03971 -0.06304  25.096\n",
       "\n",
       "[78383 rows x 6 columns]"
      ]
     },
     "execution_count": 4,
     "metadata": {},
     "output_type": "execute_result"
    }
   ],
   "source": [
    "data = {\n",
    "    'longitude': lon,\n",
    "    'latitude' : lat,\n",
    "    'time'     : time,\n",
    "    've'       : ve_curr,\n",
    "    'vn'       : vn_curr,\n",
    "    'sst'      : sst\n",
    "}\n",
    "\n",
    "df = pd.DataFrame(data)\n",
    "df"
   ]
  },
  {
   "cell_type": "markdown",
   "id": "d1ad3cd9-f38e-4805-8704-2ce351f4bca8",
   "metadata": {},
   "source": [
    "## Selecting Drifter Data"
   ]
  },
  {
   "cell_type": "code",
   "execution_count": 8,
   "id": "692d3636-1bd0-4603-a764-b5e8291cfd4c",
   "metadata": {},
   "outputs": [
    {
     "data": {
      "text/html": [
       "<div>\n",
       "<style scoped>\n",
       "    .dataframe tbody tr th:only-of-type {\n",
       "        vertical-align: middle;\n",
       "    }\n",
       "\n",
       "    .dataframe tbody tr th {\n",
       "        vertical-align: top;\n",
       "    }\n",
       "\n",
       "    .dataframe thead th {\n",
       "        text-align: right;\n",
       "    }\n",
       "</style>\n",
       "<table border=\"1\" class=\"dataframe\">\n",
       "  <thead>\n",
       "    <tr style=\"text-align: right;\">\n",
       "      <th></th>\n",
       "      <th>longitude</th>\n",
       "      <th>latitude</th>\n",
       "      <th>time</th>\n",
       "      <th>ve</th>\n",
       "      <th>vn</th>\n",
       "      <th>sst</th>\n",
       "    </tr>\n",
       "  </thead>\n",
       "  <tbody>\n",
       "    <tr>\n",
       "      <th>19675</th>\n",
       "      <td>-63.153</td>\n",
       "      <td>18.267</td>\n",
       "      <td>2023-01-01 00:00:00</td>\n",
       "      <td>0.00100</td>\n",
       "      <td>-0.00273</td>\n",
       "      <td>26.233</td>\n",
       "    </tr>\n",
       "    <tr>\n",
       "      <th>19676</th>\n",
       "      <td>-63.152</td>\n",
       "      <td>18.266</td>\n",
       "      <td>2023-01-01 06:00:00</td>\n",
       "      <td>0.00033</td>\n",
       "      <td>0.00000</td>\n",
       "      <td>26.419</td>\n",
       "    </tr>\n",
       "    <tr>\n",
       "      <th>19677</th>\n",
       "      <td>-63.152</td>\n",
       "      <td>18.267</td>\n",
       "      <td>2023-01-01 12:00:00</td>\n",
       "      <td>-0.00107</td>\n",
       "      <td>0.00254</td>\n",
       "      <td>26.449</td>\n",
       "    </tr>\n",
       "    <tr>\n",
       "      <th>19678</th>\n",
       "      <td>-63.153</td>\n",
       "      <td>18.267</td>\n",
       "      <td>2023-01-01 18:00:00</td>\n",
       "      <td>-0.00033</td>\n",
       "      <td>0.00001</td>\n",
       "      <td>26.324</td>\n",
       "    </tr>\n",
       "    <tr>\n",
       "      <th>19679</th>\n",
       "      <td>-63.153</td>\n",
       "      <td>18.267</td>\n",
       "      <td>2023-01-02 00:00:00</td>\n",
       "      <td>0.00074</td>\n",
       "      <td>-0.00087</td>\n",
       "      <td>26.276</td>\n",
       "    </tr>\n",
       "    <tr>\n",
       "      <th>...</th>\n",
       "      <td>...</td>\n",
       "      <td>...</td>\n",
       "      <td>...</td>\n",
       "      <td>...</td>\n",
       "      <td>...</td>\n",
       "      <td>...</td>\n",
       "    </tr>\n",
       "    <tr>\n",
       "      <th>19828</th>\n",
       "      <td>-63.148</td>\n",
       "      <td>18.252</td>\n",
       "      <td>2023-02-08 06:00:00</td>\n",
       "      <td>-0.00308</td>\n",
       "      <td>-0.00033</td>\n",
       "      <td>25.941</td>\n",
       "    </tr>\n",
       "    <tr>\n",
       "      <th>19829</th>\n",
       "      <td>-63.152</td>\n",
       "      <td>18.267</td>\n",
       "      <td>2023-02-08 12:00:00</td>\n",
       "      <td>0.01344</td>\n",
       "      <td>0.05190</td>\n",
       "      <td>25.946</td>\n",
       "    </tr>\n",
       "    <tr>\n",
       "      <th>19830</th>\n",
       "      <td>-63.142</td>\n",
       "      <td>18.272</td>\n",
       "      <td>2023-02-08 18:00:00</td>\n",
       "      <td>-0.01471</td>\n",
       "      <td>0.02242</td>\n",
       "      <td>25.783</td>\n",
       "    </tr>\n",
       "    <tr>\n",
       "      <th>19831</th>\n",
       "      <td>-63.158</td>\n",
       "      <td>18.276</td>\n",
       "      <td>2023-02-09 00:00:00</td>\n",
       "      <td>-0.02561</td>\n",
       "      <td>-0.01237</td>\n",
       "      <td>25.781</td>\n",
       "    </tr>\n",
       "    <tr>\n",
       "      <th>19832</th>\n",
       "      <td>-63.153</td>\n",
       "      <td>18.267</td>\n",
       "      <td>2023-02-09 06:00:00</td>\n",
       "      <td>0.01511</td>\n",
       "      <td>-0.01927</td>\n",
       "      <td>26.010</td>\n",
       "    </tr>\n",
       "  </tbody>\n",
       "</table>\n",
       "<p>158 rows × 6 columns</p>\n",
       "</div>"
      ],
      "text/plain": [
       "       longitude  latitude                time       ve       vn     sst\n",
       "19675    -63.153    18.267 2023-01-01 00:00:00  0.00100 -0.00273  26.233\n",
       "19676    -63.152    18.266 2023-01-01 06:00:00  0.00033  0.00000  26.419\n",
       "19677    -63.152    18.267 2023-01-01 12:00:00 -0.00107  0.00254  26.449\n",
       "19678    -63.153    18.267 2023-01-01 18:00:00 -0.00033  0.00001  26.324\n",
       "19679    -63.153    18.267 2023-01-02 00:00:00  0.00074 -0.00087  26.276\n",
       "...          ...       ...                 ...      ...      ...     ...\n",
       "19828    -63.148    18.252 2023-02-08 06:00:00 -0.00308 -0.00033  25.941\n",
       "19829    -63.152    18.267 2023-02-08 12:00:00  0.01344  0.05190  25.946\n",
       "19830    -63.142    18.272 2023-02-08 18:00:00 -0.01471  0.02242  25.783\n",
       "19831    -63.158    18.276 2023-02-09 00:00:00 -0.02561 -0.01237  25.781\n",
       "19832    -63.153    18.267 2023-02-09 06:00:00  0.01511 -0.01927  26.010\n",
       "\n",
       "[158 rows x 6 columns]"
      ]
     },
     "execution_count": 8,
     "metadata": {},
     "output_type": "execute_result"
    }
   ],
   "source": [
    "# Test: Our selected drifter has 258 observations. However, we will limit it to 158 observations because the coordinates \n",
    "# of our CMEMS data are 158 in dimension, and the linear interpolation method we use requires it in this situation.\n",
    "\n",
    "df_1 = df[19675:19833]\n",
    "df_1"
   ]
  },
  {
   "cell_type": "markdown",
   "id": "3a684520-9b33-4568-bdfe-f9836b3b4deb",
   "metadata": {},
   "source": [
    "## Now Let's Interpolating the wind field from CMEMS onto the drifter positions"
   ]
  },
  {
   "cell_type": "code",
   "execution_count": 9,
   "id": "c81b8a0a-e796-4f1e-9b4c-1ce57c898c86",
   "metadata": {},
   "outputs": [],
   "source": [
    "# Load the DataFrame containing information about the cordinate\n",
    "df_inertial_wave = df[19675:19833] \n",
    "\n",
    "# Load data from the NetCDF file containing the U and V wind components\n",
    "ds_wind = xr.open_dataset(\"cmems_obs-wind_glo_phy_my_l4_P1M_1715561830429.nc\")  # Make sure to provide the correct file path\n",
    "\n",
    "# Select the U and V wind variables\n",
    "u_wind = ds_wind['eastward_wind']\n",
    "v_wind = ds_wind['northward_wind']\n",
    "\n",
    "# Interpolate wind data to the same spatial positions as the inertial wave data\n",
    "u_interp = u_wind.interp(latitude=df_inertial_wave['latitude'], longitude=df_inertial_wave['longitude'], time=df_inertial_wave['time'], method='linear')\n",
    "v_interp = v_wind.interp(latitude=df_inertial_wave['latitude'], longitude=df_inertial_wave['longitude'], time=df_inertial_wave['time'], method='linear')\n"
   ]
  },
  {
   "cell_type": "markdown",
   "id": "baca6eec-e9aa-42b1-8842-46c7e6d9a41e",
   "metadata": {},
   "source": [
    "## Calculation of surface Ekman current"
   ]
  },
  {
   "cell_type": "code",
   "execution_count": null,
   "id": "9f688552-a00b-45e8-89a1-9e086ffbfd20",
   "metadata": {},
   "outputs": [],
   "source": []
  },
  {
   "cell_type": "markdown",
   "id": "4cb77373-0f6b-4281-a856-b57919877d1b",
   "metadata": {},
   "source": [
    "## Calculation of Ekman current speed:\n",
    "\n",
    "The speed of Ekman current can be calculated using the Ekman equation:\n",
    "\n",
    "$$\n",
    "V_e = \\frac{\\rho f}{\\tau}\n",
    "$$\n",
    "\n",
    "Where:\n",
    "- $ V_e $ is the speed of the Ekman current.\n",
    "- $ \\tau $ is the wind stress, which is the force exerted by the wind on the water surface.\n",
    "- $ \\rho $ is the water density.\n",
    "- $ f $ is the Coriolis parameter, which depends on latitude."
   ]
  },
  {
   "cell_type": "markdown",
   "id": "c1ba0416-658f-4cac-8d6f-76c957c9c17b",
   "metadata": {},
   "source": [
    "## Zonal case"
   ]
  },
  {
   "cell_type": "code",
   "execution_count": 17,
   "id": "d917822b-9eb6-45b8-bea1-d87eead02f1f",
   "metadata": {},
   "outputs": [],
   "source": [
    "# Interpolated wind data\n",
    "# Suppose u_wind contains interpolated zonal wind data\n",
    "\n",
    "# Constants\n",
    "rho = 1025  # Water density in kg/m^3\n",
    "f = 2 * np.pi / (24 * 3600) * np.sin(np.deg2rad(u_interp.latitude))  # Coriolis parameter\n",
    "\n",
    "# Calculation of wind stress (hypothetical)\n",
    "tau = 0.1  # Example wind stress in N/m^2\n",
    "\n",
    "# Calculation of Ekman current speed\n",
    "ue = tau / (rho * f)\n",
    "\n",
    "# Ekman current direction\n",
    "# For example, Ekman current direction is at 90 degrees to the wind direction\n",
    "# For specific direction, it depends on the hemisphere (to the right in the northern hemisphere, to the left in the southern hemisphere)\n",
    "\n",
    "# Example of displaying results\n",
    "# print(\"Zonal Ekman current speed (m/s):\", ue)"
   ]
  },
  {
   "cell_type": "markdown",
   "id": "3dda2baf-6ed8-4fe0-b19a-8b1fa87df948",
   "metadata": {},
   "source": [
    "# Meridional case"
   ]
  },
  {
   "cell_type": "code",
   "execution_count": 18,
   "id": "1f7f3e89-28d0-4864-84c8-1dfde956216b",
   "metadata": {},
   "outputs": [],
   "source": [
    "# Interpolated wind data\n",
    "# Suppose v_wind contains interpolated meridional wind data\n",
    "\n",
    "# Constants\n",
    "rho = 1025  # Water density in kg/m^3\n",
    "f = 2 * np.pi / (24 * 3600) * np.sin(np.deg2rad(v_interp.latitude))  # Coriolis parameter\n",
    "\n",
    "# Calculation of wind stress (hypothetical)\n",
    "tau = 0.1  # Example wind stress in N/m^2\n",
    "\n",
    "# Calculation of Ekman current speed\n",
    "ve = tau / (rho * f)\n",
    "\n",
    "# Ekman current direction\n",
    "# For example, Ekman current direction is at 90 degrees to the wind direction\n",
    "# For specific direction, it depends on the hemisphere (to the right in the northern hemisphere, to the left in the southern hemisphere)\n",
    "\n",
    "# Example of displaying results\n",
    "# print(\"Zonal Ekman current speed (m/s):\", ve)"
   ]
  },
  {
   "cell_type": "markdown",
   "id": "c2f07c09-04f9-4eed-830d-a686d6045590",
   "metadata": {},
   "source": [
    "#### 2. Adding the surface Ekman current to the geostrophic current."
   ]
  },
  {
   "cell_type": "markdown",
   "id": "d763a18e-4f63-436f-9d96-c695e1485bb8",
   "metadata": {},
   "source": [
    "## ugeos plus Ekman zonal current"
   ]
  },
  {
   "cell_type": "code",
   "execution_count": 26,
   "id": "64741af0-0e3b-4f01-a92c-f68150dcb41f",
   "metadata": {},
   "outputs": [],
   "source": [
    "U_geos_ekman= df_1['ve'] + ue"
   ]
  },
  {
   "cell_type": "markdown",
   "id": "05fcbec1-64ac-4d79-962d-560ec57a3760",
   "metadata": {},
   "source": [
    "## vgeos plus Ekman meridional current"
   ]
  },
  {
   "cell_type": "code",
   "execution_count": 25,
   "id": "1194851d-533b-4498-ab43-6daeb47b8ad3",
   "metadata": {},
   "outputs": [],
   "source": [
    "V_geos_ekman= df_1['vn'] + ve"
   ]
  }
 ],
 "metadata": {
  "kernelspec": {
   "display_name": "Python 3 (ipykernel)",
   "language": "python",
   "name": "python3"
  },
  "language_info": {
   "codemirror_mode": {
    "name": "ipython",
    "version": 3
   },
   "file_extension": ".py",
   "mimetype": "text/x-python",
   "name": "python",
   "nbconvert_exporter": "python",
   "pygments_lexer": "ipython3",
   "version": "3.11.7"
  }
 },
 "nbformat": 4,
 "nbformat_minor": 5
}
